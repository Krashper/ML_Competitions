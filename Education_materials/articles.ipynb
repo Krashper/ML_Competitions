{
 "cells": [
  {
   "cell_type": "markdown",
   "metadata": {},
   "source": [
    "# Полезные статьи\n",
    "\n",
    "* pandas - https://habr.com/ru/companies/ruvds/articles/494720/\n",
    "* sqlite - https://python-school.ru/blog/analiz-dannyh/sqlite-database-and-pandas/\n",
    "* Flask - https://habr.com/ru/amp/publications/804245/\n",
    "* sklearn - https://uproger.com/scikit-learn-funkczii-dlya-mashinnogo-obucheniya/\n",
    "* Image classification - https://www.geeksforgeeks.org/python-image-classification-using-keras/\n",
    "* Основы NLP - https://habr.com/ru/companies/Voximplant/articles/446738/\n",
    "* numpy - https://habr.com/ru/articles/768188/"
   ]
  },
  {
   "cell_type": "markdown",
   "metadata": {},
   "source": []
  }
 ],
 "metadata": {
  "language_info": {
   "name": "python"
  }
 },
 "nbformat": 4,
 "nbformat_minor": 2
}
